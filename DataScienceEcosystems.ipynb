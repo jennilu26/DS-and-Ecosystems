{
  "metadata": {
    "kernelspec": {
      "name": "python",
      "display_name": "Python (Pyodide)",
      "language": "python"
    },
    "language_info": {
      "codemirror_mode": {
        "name": "python",
        "version": 3
      },
      "file_extension": ".py",
      "mimetype": "text/x-python",
      "name": "python",
      "nbconvert_exporter": "python",
      "pygments_lexer": "ipython3",
      "version": "3.8"
    }
  },
  "nbformat_minor": 4,
  "nbformat": 4,
  "cells": [
    {
      "cell_type": "markdown",
      "source": "# Data Science and Ecosystems",
      "metadata": {}
    },
    {
      "cell_type": "code",
      "source": "",
      "metadata": {
        "trusted": true
      },
      "outputs": [],
      "execution_count": null
    },
    {
      "cell_type": "markdown",
      "source": "## In this notebook, Data Science Tools and Ecosystems are summarized",
      "metadata": {}
    },
    {
      "cell_type": "markdown",
      "source": "# Objectives:\n\n## -Jupyter Notebook\n\n## -Data Science Languages\n\n## -Data Science Libraries\n\n## -Data Science Tools\n\n## -Basic Arithmetic with Integers ",
      "metadata": {}
    },
    {
      "cell_type": "markdown",
      "source": "## Some popular languages that Data Scientist use are:\n\n### 1. Python\n### 2. R\n### 3. SQL",
      "metadata": {}
    },
    {
      "cell_type": "markdown",
      "source": "## Some commonly used libraries used by Data Scientist are:\n\n### 1. NumPy\n\n### 2. Pandas\n\n### 3 Matplotlib ",
      "metadata": {}
    },
    {
      "cell_type": "markdown",
      "source": "   ## DATA SCIENCE TOOLS\n  ----------------------\n  ### pandas\n  ### Tableau\n  ### Jupyter Notebooks\n  ### R Studio",
      "metadata": {}
    },
    {
      "cell_type": "markdown",
      "source": "## Below are a few examples of evaluating arithmetic expression ",
      "metadata": {}
    },
    {
      "cell_type": "markdown",
      "source": "### This is a simple arithmetic expression to multiply and then add integers\n\n \n",
      "metadata": {}
    },
    {
      "cell_type": "code",
      "source": "(3*4)+5",
      "metadata": {
        "trusted": true
      },
      "outputs": [
        {
          "execution_count": 4,
          "output_type": "execute_result",
          "data": {
            "text/plain": "17"
          },
          "metadata": {}
        }
      ],
      "execution_count": 4
    },
    {
      "cell_type": "markdown",
      "source": "### This will convert 200 minutes to hours by diving by 60",
      "metadata": {}
    },
    {
      "cell_type": "code",
      "source": " 200/60",
      "metadata": {
        "trusted": true
      },
      "outputs": [
        {
          "execution_count": 6,
          "output_type": "execute_result",
          "data": {
            "text/plain": "3.3333333333333335"
          },
          "metadata": {}
        }
      ],
      "execution_count": 6
    },
    {
      "cell_type": "markdown",
      "source": "## Author\n\nJennifer Franklin",
      "metadata": {}
    },
    {
      "cell_type": "markdown",
      "source": "",
      "metadata": {}
    }
  ]
}